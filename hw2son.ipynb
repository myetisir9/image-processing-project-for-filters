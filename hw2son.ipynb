{
 "cells": [
  {
   "cell_type": "markdown",
   "metadata": {},
   "source": [
    "Mustafa Yetişir  "
   ]
  },
  {
   "cell_type": "markdown",
   "metadata": {},
   "source": [
    "11/13/2022"
   ]
  },
  {
   "cell_type": "code",
   "execution_count": 7,
   "metadata": {},
   "outputs": [],
   "source": [
    "from typing import List, Tuple, Any\n",
    "import numpy as np\n",
    "from PIL.Image import Image as ImageType\n",
    "from PIL import Image\n",
    "\n",
    "from utils import array_to_image, image_to_array\n",
    "from renderer import noise_renderers\n",
    "\n",
    "# Each pixel in the image must be given the change to be at the center of the filter\n",
    "\n",
    "def apply_filter(image: ImageType, kernel: np.ndarray, padding: List[List[int]]) -> np.ndarray:\n",
    "    \"\"\" \n",
    "    Apply a filter with the given kernel to the zero padded input image.\n",
    "        **Note:** Kernels can be rectangular.\n",
    "        **Note:** You can use ```np.meshgrid``` and indexing to avoid using loops (bonus +5) for convolving.\n",
    "        **Do not** use ```np.convolve``` in this question.\n",
    "        **Do not** use ```np.pad```. Use index assignment and slicing with numpy and do not loop\n",
    "            over the pixels for padding.\n",
    "\n",
    "    Args:\n",
    "        image (ImageType): 2D Input image\n",
    "        kernel np.ndarray: 2D kernel array of odd edge sizes\n",
    "        padding: List[list[int]]: List of zero paddings. Example: [[3, 2], [1, 4]]. The first list\n",
    "            [3, 2] determines the padding for the width of the image while [1, 4] determines the\n",
    "            padding to apply to top and bottom of the image. The resulting image will have a shape\n",
    "            of ((1 + H + 4), (3 + W + 2)).\n",
    "\n",
    "    Raises:\n",
    "        ValueError: If the length of kernel edges are not odd\n",
    "\n",
    "    Returns:\n",
    "        np.ndarray: Filtered array (May contain negative values)\n",
    "    \"\"\"\n",
    "\n",
    "    img = image_to_array(image)\n",
    "\n",
    "    def __check_kernel():\n",
    "        res = np.asarray(kernel.shape) % 2 == 0\n",
    "        if True in res:\n",
    "            raise ValueError(\"Kernel edges are not odd.\")\n",
    "\n",
    "    def __pad_image():\n",
    "\n",
    "        pad_top, pad_bottom = padding[1]\n",
    "        pad_left, pad_right = padding[0]\n",
    "\n",
    "        padded_img = np.zeros((img.shape[0]+pad_top+pad_bottom, img.shape[1]+pad_left+pad_right))\n",
    "        padded_img[pad_top:pad_top+img.shape[0], pad_left:pad_left+img.shape[1]] = img\n",
    "\n",
    "        return padded_img\n",
    "\n",
    "    __check_kernel()\n",
    "    __pad_image()\n",
    "\n",
    "    step_horizontal = img.shape[0] - kernel.shape[0] + 1  #yatay\n",
    "    step_vertical = img.shape[1] - kernel.shape[1] + 1    #dikey\n",
    "\n",
    "    final_img = np.zeros((step_horizontal,step_vertical))\n",
    "\n",
    "    for i in range(step_horizontal):\n",
    "        for j in range(step_vertical):\n",
    "            sub_img = img[i:i+kernel.shape[0], j:j+kernel.shape[1]]\n",
    "            final_img[i][j] = round(np.sum(np.multiply(sub_img,kernel)))\n",
    "\n",
    "    return final_img\n",
    "\n",
    "def box_filter(image: ImageType, kernel_size: Tuple[int]) -> ImageType:\n",
    "    \"\"\" Apply Box filter.\n",
    "\n",
    "    Args:\n",
    "        image (ImageType): 2D Input image of shape (H, W)\n",
    "        kernel_size (Tuple[int]): 2D kernel size of kernel (height, width)\n",
    "\n",
    "    Returns:\n",
    "        ImageType: Filtered Image\n",
    "    \"\"\"\n",
    "\n",
    "    box_kernel = np.ones(kernel_size) * 1/(kernel_size[0]*kernel_size[1])\n",
    "\n",
    "    def __find_padding():\n",
    "        pad_horizontal = kernel_size[1] // 2\n",
    "        pad_vertical = kernel_size[0] // 2\n",
    "        return [[pad_horizontal,pad_horizontal],[pad_vertical,pad_vertical]]\n",
    "\n",
    "    padding = __find_padding()\n",
    "\n",
    "    new_img = apply_filter(image, box_kernel, padding)\n",
    "    return array_to_image(new_img)\n",
    "    \n",
    "def gaussian_filter(image: ImageType, kernel_size: Tuple[int], sigma: float) -> ImageType:\n",
    "    \"\"\" Apply Gauss filter that is centered and has the shared standard deviation ```sigma```\n",
    "    **Note:** Remember to normalize kernel before applying.\n",
    "    **Note:** You can use ```np.meshgrid``` (once again) to generate Gaussian kernels\n",
    "\n",
    "    Args:\n",
    "        image (ImageType): 2D Input image of shape (H, W)\n",
    "        kernel_size (Tuple[int]): 2D kernel size\n",
    "        sigma (float): Standard deviation\n",
    "\n",
    "    Returns:\n",
    "        ImageType: Filtered Image\n",
    "    \"\"\"\n",
    "    \n",
    "    def __construct_kernel():\n",
    "        kernel = np.zeros(kernel_size)\n",
    "        for i in range(kernel_size[0]):\n",
    "            for j in range(kernel_size[1]):\n",
    "                kernel[i][j] = np.exp(-0.5*((i-kernel_size[0]//2)**2+(j-kernel_size[1]//2)**2)/(sigma**2))\n",
    "        return kernel / np.sum(kernel)\n",
    "\n",
    "    def __find_padding():\n",
    "        pad_horizontal = kernel_size[1] // 2\n",
    "        pad_vertical = kernel_size[0] // 2\n",
    "        return [[pad_horizontal,pad_horizontal],[pad_vertical,pad_vertical]]\n",
    "\n",
    "    padding = __find_padding()\n",
    "    g_kernel = __construct_kernel()\n",
    "\n",
    "    new_img = apply_filter(image, g_kernel, padding)\n",
    "    return array_to_image(new_img)"
   ]
  },
  {
   "cell_type": "code",
   "execution_count": 8,
   "metadata": {},
   "outputs": [
    {
     "data": {
      "application/vnd.jupyter.widget-view+json": {
       "model_id": "7c0ea73c15c849dcb5b40a06565493af",
       "version_major": 2,
       "version_minor": 0
      },
      "text/plain": [
       "HBox(children=(VBox(children=(VBox(children=(HTML(value='<h2>Original Image</h2>'),), layout=Layout(height='20…"
      ]
     },
     "metadata": {},
     "output_type": "display_data"
    }
   ],
   "source": [
    "# Test your above functions before running this cell\n",
    "image = Image.open(\"noisy_image.png\")\n",
    "noise_renderers(image, gaussian_filter, box_filter)"
   ]
  },
  {
   "cell_type": "markdown",
   "metadata": {},
   "source": [
    "Box filter is faster to calculate. Gaussian filter gives less importance to the further neighboring pixels. In gaussian filter sigma is more effective than kernel size for the blurring of the image. "
   ]
  },
  {
   "cell_type": "code",
   "execution_count": 9,
   "metadata": {},
   "outputs": [],
   "source": [
    "from renderer import edge_renderers\n",
    "\n",
    "def horizontal_derivative(image: ImageType) -> ImageType:\n",
    "    \"\"\" Return the horizontal derivative image with same padding.\n",
    "    **Note**: Pad the input image so that the output image has the same size/shape.\n",
    "\n",
    "    Args:\n",
    "        image (ImageType): 2D Input Image of shape (H, W)\n",
    "\n",
    "    Returns:\n",
    "        ImageType: Derivative image of shape (H, W).\n",
    "    \"\"\"\n",
    "    img = image_to_array(image)\n",
    "\n",
    "    padding = [[0,0],[0,0]]\n",
    "    kernel = np.asarray([[-1],[0],[1]])\n",
    "    \n",
    "\n",
    "    new_img = apply_filter(image, kernel, padding)\n",
    "    pad_x = (img.shape[0] - new_img.shape[0]) // 2\n",
    "    pad_y = (img.shape[1] - new_img.shape[1]) // 2\n",
    "\n",
    "    final_img = np.zeros(img.shape)\n",
    "\n",
    "    final_img[pad_x:pad_x+new_img.shape[0], pad_y:pad_y+new_img.shape[1]] = new_img\n",
    "\n",
    "    return array_to_image(final_img)\n",
    "\n",
    "\n",
    "def vertical_derivative(image: ImageType) -> ImageType:\n",
    "    \"\"\" Return the vertical derivative image with same padding.\n",
    "    **Note**: Pad the input image so that the output image has the same size/shape.\n",
    "\n",
    "    Args:\n",
    "        image (ImageType): 2D Input Image of shape (H, W)\n",
    "\n",
    "    Returns:\n",
    "        ImageType: Derivative image of shape (H, W).\n",
    "    \"\"\"\n",
    "    img = image_to_array(image)\n",
    "\n",
    "    padding = [[0,0],[0,0]]\n",
    "    kernel = np.asarray([[-1,0,1]])\n",
    "    \n",
    "\n",
    "    new_img = apply_filter(image, kernel, padding)\n",
    "    pad_x = (img.shape[0] - new_img.shape[0]) // 2\n",
    "    pad_y = (img.shape[1] - new_img.shape[1]) // 2\n",
    "\n",
    "    final_img = np.zeros(img.shape)\n",
    "\n",
    "    final_img[pad_x:pad_x+new_img.shape[0], pad_y:pad_y+new_img.shape[1]] = new_img\n",
    "\n",
    "    return array_to_image(final_img)\n"
   ]
  },
  {
   "cell_type": "code",
   "execution_count": 10,
   "metadata": {},
   "outputs": [
    {
     "data": {
      "application/vnd.jupyter.widget-view+json": {
       "model_id": "17e13eb838ed475c85b47b166ffa4695",
       "version_major": 2,
       "version_minor": 0
      },
      "text/plain": [
       "HBox(children=(VBox(children=(VBox(children=(HTML(value='<h2>Original Image</h2>'),), layout=Layout(height='70…"
      ]
     },
     "metadata": {},
     "output_type": "display_data"
    }
   ],
   "source": [
    "# Test your above functions before running this cell\n",
    "image = Image.open(\"building.png\")\n",
    "edge_renderers(\n",
    "    (image, \"Original Image\"),\n",
    "    (vertical_derivative(image), \"Vertical\"),\n",
    "    (horizontal_derivative(image), \"Horizontal\"),\n",
    ")"
   ]
  },
  {
   "cell_type": "markdown",
   "metadata": {},
   "source": [
    "I implemented Sobel filter for edge detection using 3x3 kernels.\n",
    "\n",
    "Then, combined the output of the vertical and horizontal Sobel operators, namely $S_x$ and $S_y$, to obtain gradient image.\n",
    " "
   ]
  },
  {
   "cell_type": "code",
   "execution_count": 11,
   "metadata": {},
   "outputs": [
    {
     "data": {
      "application/vnd.jupyter.widget-view+json": {
       "model_id": "265ce265ca5a4cb898f9993e2c99be5d",
       "version_major": 2,
       "version_minor": 0
      },
      "text/plain": [
       "HBox(children=(VBox(children=(VBox(children=(HTML(value='<h2>Original Image</h2>'),), layout=Layout(height='70…"
      ]
     },
     "metadata": {},
     "output_type": "display_data"
    }
   ],
   "source": [
    "def sobel_vertical(image: ImageType) -> np.ndarray:\n",
    "    \"\"\" Return the output of the vertical Sobel operator with same padding.\n",
    "\n",
    "    Args:\n",
    "        image (ImageType): 2D Input Image of shape (H, W)\n",
    "\n",
    "    Returns:\n",
    "        np.ndarray: Derivative array of shape (H, W).\n",
    "    \"\"\"\n",
    "    img = image_to_array(image)\n",
    "\n",
    "    padding = [[0,0],[0,0]]\n",
    "    kernel = np.asarray([[-1,0,1],[-2,0,2],[-1,0,1]])\n",
    "\n",
    "    new_img = apply_filter(image, kernel, padding)\n",
    "    pad_x = (img.shape[0] - new_img.shape[0]) // 2\n",
    "    pad_y = (img.shape[1] - new_img.shape[1]) // 2\n",
    "\n",
    "    final_img = np.zeros(img.shape)\n",
    "\n",
    "    final_img[pad_x:pad_x+new_img.shape[0], pad_y:pad_y+new_img.shape[1]] = new_img\n",
    "\n",
    "    return array_to_image(final_img)\n",
    "\n",
    "\n",
    "def sobel_horizontal(image: ImageType) -> np.ndarray:\n",
    "    \"\"\" Return the output of the horizontal Sobel operator with same padding.\n",
    "\n",
    "    Args:\n",
    "        image (ImageType): 2D Input Image of shape (H, W)\n",
    "\n",
    "    Returns:\n",
    "        np.ndarray: Derivative array of shape (H, W).\n",
    "    \"\"\"\n",
    "    img = image_to_array(image)\n",
    "\n",
    "    padding = [[0,0],[0,0]]\n",
    "    kernel = np.asarray([[-1,-2,-1],[0,0,0],[1,2,1]])\n",
    "\n",
    "    new_img = apply_filter(image, kernel, padding)\n",
    "    pad_x = (img.shape[0] - new_img.shape[0]) // 2\n",
    "    pad_y = (img.shape[1] - new_img.shape[1]) // 2\n",
    "\n",
    "    final_img = np.zeros(img.shape)\n",
    "\n",
    "    final_img[pad_x:pad_x+new_img.shape[0], pad_y:pad_y+new_img.shape[1]] = new_img\n",
    "\n",
    "    return array_to_image(final_img)\n",
    "\n",
    "\n",
    "def gradient_image(image: ImageType) -> ImageType:\n",
    "    \"\"\" Return the gradient image calculated by combining the output of Sobel filters.\n",
    "\n",
    "    Args:\n",
    "        image (ImageType): 2D Input Image of shape (H, W)\n",
    "\n",
    "    Returns:\n",
    "        ImageType: Derivative image of shape (H, W).\n",
    "    \"\"\"\n",
    "    sobel_v = sobel_vertical(image)\n",
    "    sobel_h = sobel_horizontal(image)\n",
    "\n",
    "    sobel_v = image_to_array(sobel_v)\n",
    "    sobel_h = image_to_array(sobel_h)\n",
    "\n",
    "    return array_to_image(sobel_v + sobel_h)\n",
    "\n",
    "image = Image.open(\"building.png\")\n",
    "edge_renderers(\n",
    "    (image, \"Original Image\"),\n",
    "    (gradient_image(image), \"Edge Image\"),\n",
    ")"
   ]
  },
  {
   "cell_type": "code",
   "execution_count": 12,
   "metadata": {},
   "outputs": [
    {
     "data": {
      "application/vnd.jupyter.widget-view+json": {
       "model_id": "7986aa351ea04654a6a9e8d0ae6354f4",
       "version_major": 2,
       "version_minor": 0
      },
      "text/plain": [
       "HBox(children=(VBox(children=(VBox(children=(HTML(value='<h2>Original Image</h2>'),), layout=Layout(height='70…"
      ]
     },
     "metadata": {},
     "output_type": "display_data"
    }
   ],
   "source": [
    "# Test your above functions before running this cell\n",
    "image = Image.open(\"building.png\")\n",
    "edge_renderers(\n",
    "    (image, \"Original Image\"),\n",
    "    (gradient_image(image), \"Edge Image\"),\n",
    ")"
   ]
  },
  {
   "cell_type": "code",
   "execution_count": null,
   "metadata": {},
   "outputs": [],
   "source": []
  }
 ],
 "metadata": {
  "kernelspec": {
   "display_name": "Python 3",
   "language": "python",
   "name": "python3"
  },
  "language_info": {
   "codemirror_mode": {
    "name": "ipython",
    "version": 3
   },
   "file_extension": ".py",
   "mimetype": "text/x-python",
   "name": "python",
   "nbconvert_exporter": "python",
   "pygments_lexer": "ipython3",
   "version": "3.9.12"
  },
  "vscode": {
   "interpreter": {
    "hash": "88279d2366fe020547cde40dd65aa0e3aa662a6ec1f3ca12d88834876c85e1a6"
   }
  }
 },
 "nbformat": 4,
 "nbformat_minor": 2
}
